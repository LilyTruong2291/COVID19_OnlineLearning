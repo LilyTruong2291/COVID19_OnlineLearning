{
  "cells": [
    {
      "cell_type": "markdown",
      "metadata": {},
      "source": [
        "# Data Collection"
      ]
    },
    {
      "cell_type": "markdown",
      "metadata": {},
      "source": [
        "## Install required packages for data collection"
      ]
    },
    {
      "metadata": {
        "trusted": true,
        "tags": []
      },
      "cell_type": "code",
      "source": [
        "# install Twitter and Tweepy scrapping package\n",
        "!pip install --upgrade pip\n",
        "!pip install twitterscraper\n",
        "!pip install tweepy"
      ],
      "execution_count": null,
      "outputs": []
    },
    {
      "cell_type": "markdown",
      "metadata": {},
      "source": [
        "## Install required libraries"
      ]
    },
    {
      "metadata": {
        "trusted": true
      },
      "cell_type": "code",
      "source": [
        "# import libraries for scrapping and reading dataframe\n",
        "\n",
        "#!/usr/bin/env python\n",
        "from __future__ import print_function\n",
        "\n",
        "#Import the necessary methods from tweepy library\n",
        "import tweepy\n",
        "from tweepy import OAuthHandler\n",
        "\n",
        "from twitterscraper import query_tweets\n",
        "import datetime as dt\n",
        "import pandas as pd"
      ],
      "execution_count": null,
      "outputs": []
    },
    {
      "cell_type": "markdown",
      "metadata": {},
      "source": [
        "## Set the requirements and keywords to webscrapping "
      ]
    },
    {
      "metadata": {
        "trusted": true
      },
      "cell_type": "code",
      "source": [
        "# set begin date for Twitter scraping\n",
        "begin_date = dt.date(2020,3,10)\n",
        "\n",
        "# set end date for Twitter scraping\n",
        "end_date = dt.date(2020,7,25)\n",
        "\n",
        "# set language for Twitter scrapping\n",
        "lang = 'english'\n",
        "\n",
        "# sets of combined keywords for covid and elearning keywords\n",
        "covid_elearning_keywords = \"covid AND e-learning\"\n",
        "covid_online_keywords = \"covid AND online learning\"\n",
        "corona_elearning_keywords = \"corona AND e-learning\"\n",
        "corona_online_keywords = \"corona AND online learning\"\n",
        "covid_distance_keywords = \"covid AND distance learning\"\n",
        "corona_distance_keywords = \"corona AND distance learning\""
      ],
      "execution_count": null,
      "outputs": []
    },
    {
      "cell_type": "markdown",
      "metadata": {},
      "source": [
        "## Scrapping Process"
      ]
    },
    {
      "cell_type": "code",
      "execution_count": null,
      "metadata": {
        "tags": []
      },
      "outputs": [],
      "source": [
        "%time\n",
        "covid_africa_tweets = query_tweets(covid_africa_keywords, begindate = begin_date, enddate = end_date, limit = None, lang = lang)\n"
      ]
    },
    {
      "metadata": {
        "trusted": true,
        "tags": []
      },
      "cell_type": "code",
      "source": [
        "# scrape data from Twitter \n",
        "%time\n",
        "covid_elearning_tweets = query_tweets(covid_elearning_keywords, begindate = begin_date, enddate = end_date, limit = None, lang = lang)\n"
      ],
      "execution_count": null,
      "outputs": []
    },
    {
      "metadata": {
        "trusted": true
      },
      "cell_type": "code",
      "source": [
        "%time\n",
        "covid_online_tweets = query_tweets(covid_online_keywords, begindate = begin_date, enddate = end_date, limit = None, lang = lang)"
      ],
      "execution_count": null,
      "outputs": []
    },
    {
      "metadata": {
        "trusted": true
      },
      "cell_type": "code",
      "source": [
        "%time\n",
        "corona_elearning_tweets = query_tweets(corona_elearning_keywords, begindate = begin_date, enddate = end_date, limit = None, lang = lang)"
      ],
      "execution_count": null,
      "outputs": []
    },
    {
      "metadata": {
        "trusted": true
      },
      "cell_type": "code",
      "source": [
        "%time\n",
        "corona_online_tweets = query_tweets(corona_online_keywords, begindate = begin_date, enddate = end_date, limit = None, lang = lang)"
      ],
      "execution_count": null,
      "outputs": []
    },
    {
      "metadata": {
        "trusted": true
      },
      "cell_type": "code",
      "source": [
        "%time\n",
        "covid_distance_tweets = query_tweets(covid_distance_keywords, begindate = begin_date, enddate = end_date, limit = None, lang = lang)"
      ],
      "execution_count": null,
      "outputs": []
    },
    {
      "metadata": {
        "trusted": true
      },
      "cell_type": "code",
      "source": [
        "%time\n",
        "corona_distance_tweets = query_tweets(corona_distance_keywords, begindate = begin_date, enddate = end_date, limit = None, lang = lang)"
      ],
      "execution_count": null,
      "outputs": []
    },
    {
      "cell_type": "markdown",
      "metadata": {},
      "source": [
        "## Save scrapped data to dataframe"
      ]
    },
    {
      "metadata": {
        "trusted": true
      },
      "cell_type": "code",
      "source": [
        "covid_elearning_df = pd.DataFrame(t.__dict__ for t in covid_elearning_tweets)\n",
        "\n",
        "covid_online_df = pd.DataFrame(t.__dict__ for t in covid_online_tweets)\n",
        "\n",
        "corona_elearning_df = pd.DataFrame(t.__dict__ for t in corona_elearning_tweets)\n",
        "\n",
        "corona_online_df = pd.DataFrame(t.__dict__ for t in corona_online_tweets)\n",
        "\n",
        "covid_distance_df = pd.DataFrame(t.__dict__ for t in covid_distance_tweets)\n",
        "\n",
        "corona_distance_df = pd.DataFrame(t.__dict__ for t in corona_distance_tweets)\n",
        "\n"
      ],
      "execution_count": null,
      "outputs": []
    },
    {
      "cell_type": "markdown",
      "metadata": {},
      "source": [
        "## Review Scrapped Data"
      ]
    },
    {
      "metadata": {
        "trusted": true
      },
      "cell_type": "code",
      "source": [
        "covid_elearning_df.head()"
      ],
      "execution_count": null,
      "outputs": []
    },
    {
      "metadata": {
        "trusted": true
      },
      "cell_type": "code",
      "source": [
        "covid_elearning_df.info()\n",
        "covid_elearning_df.describe()"
      ],
      "execution_count": null,
      "outputs": []
    },
    {
      "metadata": {
        "trusted": true
      },
      "cell_type": "code",
      "source": [
        "covid_online_df.head()"
      ],
      "execution_count": null,
      "outputs": []
    },
    {
      "metadata": {
        "trusted": true
      },
      "cell_type": "code",
      "source": [
        "covid_online_df.info()\n",
        "covid_online_df.describe()"
      ],
      "execution_count": null,
      "outputs": []
    },
    {
      "metadata": {
        "trusted": true
      },
      "cell_type": "code",
      "source": [
        "corona_elearning_df.head()"
      ],
      "execution_count": null,
      "outputs": []
    },
    {
      "metadata": {
        "trusted": true
      },
      "cell_type": "code",
      "source": [
        "corona_elearning_df.info()\n",
        "corona_elearning_df.describe()"
      ],
      "execution_count": null,
      "outputs": []
    },
    {
      "metadata": {
        "trusted": true
      },
      "cell_type": "code",
      "source": [
        "corona_online_df.head()"
      ],
      "execution_count": null,
      "outputs": []
    },
    {
      "metadata": {
        "trusted": true
      },
      "cell_type": "code",
      "source": [
        "corona_online_df.info()\n",
        "corona_online_df.describe()"
      ],
      "execution_count": null,
      "outputs": []
    },
    {
      "metadata": {
        "trusted": true
      },
      "cell_type": "code",
      "source": [
        "covid_distance_df.head()"
      ],
      "execution_count": null,
      "outputs": []
    },
    {
      "metadata": {
        "trusted": true
      },
      "cell_type": "code",
      "source": [
        "covid_distance_df.info()\n",
        "covid_distance_df.describe()"
      ],
      "execution_count": null,
      "outputs": []
    },
    {
      "metadata": {
        "trusted": true
      },
      "cell_type": "code",
      "source": [
        "corona_distance_df.head()"
      ],
      "execution_count": null,
      "outputs": []
    },
    {
      "metadata": {
        "trusted": true
      },
      "cell_type": "code",
      "source": [
        "corona_distance_df.info()\n",
        "corona_distance_df.describe()"
      ],
      "execution_count": null,
      "outputs": []
    },
    {
      "metadata": {
        "trusted": true
      },
      "cell_type": "code",
      "source": [
        "# save data in pickle\n",
        "covid_elearning_df.to_pickle(\"covid_elearning_tweets.pkl\")\n",
        "covid_online_df.to_pickle(\"covid_online_tweets.pkl\")\n",
        "corona_elearning_df.to_pickle(\"corona_elearning_tweets.pkl\")\n",
        "corona_online_df.to_pickle(\"corona_online_tweets.pkl\")\n",
        "covid_distance_df.to_pickle(\"covid_distance_tweets.pkl\")\n",
        "corona_distance_df.to_pickle(\"corona_distance_tweets.pkl\")"
      ],
      "execution_count": null,
      "outputs": []
    },
    {
      "cell_type": "code",
      "execution_count": null,
      "metadata": {},
      "outputs": [],
      "source": [
        "# load all pickle files\n",
        "df_corona_distance_tweets = pd.read_pickle(r\"corona_distance_tweets.pkl\")\n",
        "df_corona_elearning_tweets = pd.read_pickle(r\"corona_elearning_tweets.pkl\")\n",
        "df_corona_online_tweets = pd.read_pickle(r\"corona_online_tweets.pkl\")\n",
        "df_covid_distance_tweets = pd.read_pickle(r\"covid_distance_tweets.pkl\")\n",
        "df_covid_elearning_tweets = pd.read_pickle(r\"\\covid_elearning_tweets.pkl\")\n",
        "df_covid_online_tweets = pd.read_pickle(r\"covid_online_tweets.pkl\")"
      ]
    },
    {
      "cell_type": "code",
      "execution_count": null,
      "metadata": {},
      "outputs": [],
      "source": [
        "# merge all dataframes\n",
        "df_list = [df_corona_distance_tweets, df_corona_elearning_tweets, df_corona_online_tweets, df_covid_distance_tweets,\\\n",
        "                df_covid_elearning_tweets, df_covid_online_tweets]\n",
        "df = pd.concat(df_list)"
      ]
    },
    {
      "cell_type": "code",
      "execution_count": null,
      "metadata": {},
      "outputs": [],
      "source": [
        "df.drop_duplicates(subset=\"text\", keep='first', inplace=True)"
      ]
    },
    {
      "cell_type": "code",
      "execution_count": null,
      "metadata": {},
      "outputs": [],
      "source": [
        "df.to_excel(r\"tweets.xlsx\")"
      ]
    },
    {
      "cell_type": "code",
      "execution_count": null,
      "metadata": {},
      "outputs": [],
      "source": [
        "# Create list for screen name to extract location\n",
        "screenname = df['screen_name'].reset_index()"
      ]
    },
    {
      "cell_type": "code",
      "execution_count": null,
      "metadata": {},
      "outputs": [],
      "source": [
        "# Drop duplicate screen name\n",
        "screenname.drop_duplicates(subset='screen_name',keep='first', inplace=True)"
      ]
    },
    {
      "cell_type": "code",
      "execution_count": null,
      "metadata": {},
      "outputs": [],
      "source": [
        "screenname.drop('index', axis=1)"
      ]
    },
    {
      "cell_type": "code",
      "execution_count": null,
      "metadata": {},
      "outputs": [],
      "source": [
        "name = screenname['screen_name']\n",
        "\n",
        "name_list = name.values.tolist()"
      ]
    },
    {
      "cell_type": "markdown",
      "metadata": {},
      "source": [
        "## Scrap Location for tweets data"
      ]
    },
    {
      "cell_type": "code",
      "execution_count": null,
      "metadata": {},
      "outputs": [],
      "source": [
        "# scrape location for tweets\n",
        "\n",
        "location = []\n",
        "#user credentials to access Twitter API \n",
        "access_token = \"xxxxxxxxxx\"\n",
        "access_token_secret = \"xxxxxxxxxx\"\n",
        "consumer_key = \"xxxxxxxxxx\"\n",
        "consumer_secret = \"xxxxxxxxxx\"\n",
        "\n",
        "def get_user_details(username):\n",
        "        userobj = api.get_user(username)\n",
        "        return userobj\n",
        "\n",
        "\n",
        "if __name__ == '__main__':\n",
        "    #authenticating the app (https://apps.twitter.com/)\n",
        "    auth = tweepy.auth.OAuthHandler(consumer_key, consumer_secret)\n",
        "    auth.set_access_token(access_token, access_token_secret)\n",
        "    api = tweepy.API(auth, wait_on_rate_limit=True, wait_on_rate_limit_notify=True)\n",
        "\n",
        "    for name in name_list:\n",
        "        try:\n",
        "            userOBJ = get_user_details(name)\n",
        "            location.append(userOBJ.location)\n",
        "        except tweepy.TweepError:\n",
        "            location.append('')\n",
        "            continue"
      ]
    },
    {
      "cell_type": "code",
      "execution_count": null,
      "metadata": {},
      "outputs": [],
      "source": [
        "# combline list of location and screen name\n",
        "combine = list(zip(name_list,location))"
      ]
    },
    {
      "cell_type": "code",
      "execution_count": null,
      "metadata": {},
      "outputs": [],
      "source": [
        "name_location = pd.DataFrame (combine,columns=['screen_name','location'])"
      ]
    },
    {
      "cell_type": "code",
      "execution_count": null,
      "metadata": {},
      "outputs": [],
      "source": [
        "name_location.to_excel(\"location.xlsx\") "
      ]
    }
  ],
  "metadata": {
    "kernelspec": {
      "name": "python_defaultSpec_1598130915028",
      "display_name": "Python 3.7.4 64-bit ('base': conda)",
      "language": "python"
    },
    "language_info": {
      "mimetype": "text/x-python",
      "nbconvert_exporter": "python",
      "name": "python",
      "pygments_lexer": "ipython3",
      "version": "3.7.4-final",
      "file_extension": ".py",
      "codemirror_mode": {
        "version": 3,
        "name": "ipython"
      }
    }
  },
  "nbformat": 4,
  "nbformat_minor": 2
}